{
 "cells": [
  {
   "cell_type": "markdown",
   "id": "0a083290",
   "metadata": {},
   "source": [
    "# Homework 1: Introduction to Machine Learning for Machine Learning Zoomcamp 2025"
   ]
  },
  {
   "cell_type": "markdown",
   "id": "dba62edd",
   "metadata": {},
   "source": [
    "## Q1. Pandas version"
   ]
  },
  {
   "cell_type": "code",
   "execution_count": 19,
   "id": "e679fb2d-cdf9-416a-b0f2-8385068e086c",
   "metadata": {},
   "outputs": [
    {
     "name": "stdout",
     "output_type": "stream",
     "text": [
      "Pandas version: 2.3.2\n",
      "Numpy version: 2.3.3\n"
     ]
    }
   ],
   "source": [
    "import pandas as pd\n",
    "import numpy as np\n",
    "\n",
    "print(f\"Pandas version: {pd.__version__}\")\n",
    "print(f\"Numpy version: {np.__version__}\")"
   ]
  },
  {
   "cell_type": "markdown",
   "id": "90354e31",
   "metadata": {},
   "source": [
    "### Getting the data"
   ]
  },
  {
   "cell_type": "code",
   "execution_count": 20,
   "id": "b296588f-7267-421f-80f6-625de519235c",
   "metadata": {},
   "outputs": [
    {
     "data": {
      "application/vnd.microsoft.datawrangler.viewer.v0+json": {
       "columns": [
        {
         "name": "index",
         "rawType": "int64",
         "type": "integer"
        },
        {
         "name": "engine_displacement",
         "rawType": "int64",
         "type": "integer"
        },
        {
         "name": "num_cylinders",
         "rawType": "float64",
         "type": "float"
        },
        {
         "name": "horsepower",
         "rawType": "float64",
         "type": "float"
        },
        {
         "name": "vehicle_weight",
         "rawType": "float64",
         "type": "float"
        },
        {
         "name": "acceleration",
         "rawType": "float64",
         "type": "float"
        },
        {
         "name": "model_year",
         "rawType": "int64",
         "type": "integer"
        },
        {
         "name": "origin",
         "rawType": "object",
         "type": "string"
        },
        {
         "name": "fuel_type",
         "rawType": "object",
         "type": "string"
        },
        {
         "name": "drivetrain",
         "rawType": "object",
         "type": "string"
        },
        {
         "name": "num_doors",
         "rawType": "float64",
         "type": "float"
        },
        {
         "name": "fuel_efficiency_mpg",
         "rawType": "float64",
         "type": "float"
        }
       ],
       "ref": "92621aef-fab3-494e-b419-02101ec27371",
       "rows": [
        [
         "0",
         "170",
         "3.0",
         "159.0",
         "3413.433758606219",
         "17.7",
         "2003",
         "Europe",
         "Gasoline",
         "All-wheel drive",
         "0.0",
         "13.231728906241411"
        ],
        [
         "1",
         "130",
         "5.0",
         "97.0",
         "3149.664934220036",
         "17.8",
         "2007",
         "USA",
         "Gasoline",
         "Front-wheel drive",
         "0.0",
         "13.688217435463793"
        ],
        [
         "2",
         "170",
         null,
         "78.0",
         "3079.03899736884",
         "15.1",
         "2018",
         "Europe",
         "Gasoline",
         "Front-wheel drive",
         "0.0",
         "14.246340998160866"
        ],
        [
         "3",
         "220",
         "4.0",
         null,
         "2542.392401828378",
         "20.2",
         "2009",
         "USA",
         "Diesel",
         "All-wheel drive",
         "2.0",
         "16.91273559598635"
        ],
        [
         "4",
         "210",
         "1.0",
         "140.0",
         "3460.870989989018",
         "14.4",
         "2009",
         "Europe",
         "Gasoline",
         "All-wheel drive",
         "2.0",
         "12.488369121964562"
        ]
       ],
       "shape": {
        "columns": 11,
        "rows": 5
       }
      },
      "text/html": [
       "<div>\n",
       "<style scoped>\n",
       "    .dataframe tbody tr th:only-of-type {\n",
       "        vertical-align: middle;\n",
       "    }\n",
       "\n",
       "    .dataframe tbody tr th {\n",
       "        vertical-align: top;\n",
       "    }\n",
       "\n",
       "    .dataframe thead th {\n",
       "        text-align: right;\n",
       "    }\n",
       "</style>\n",
       "<table border=\"1\" class=\"dataframe\">\n",
       "  <thead>\n",
       "    <tr style=\"text-align: right;\">\n",
       "      <th></th>\n",
       "      <th>engine_displacement</th>\n",
       "      <th>num_cylinders</th>\n",
       "      <th>horsepower</th>\n",
       "      <th>vehicle_weight</th>\n",
       "      <th>acceleration</th>\n",
       "      <th>model_year</th>\n",
       "      <th>origin</th>\n",
       "      <th>fuel_type</th>\n",
       "      <th>drivetrain</th>\n",
       "      <th>num_doors</th>\n",
       "      <th>fuel_efficiency_mpg</th>\n",
       "    </tr>\n",
       "  </thead>\n",
       "  <tbody>\n",
       "    <tr>\n",
       "      <th>0</th>\n",
       "      <td>170</td>\n",
       "      <td>3.0</td>\n",
       "      <td>159.0</td>\n",
       "      <td>3413.433759</td>\n",
       "      <td>17.7</td>\n",
       "      <td>2003</td>\n",
       "      <td>Europe</td>\n",
       "      <td>Gasoline</td>\n",
       "      <td>All-wheel drive</td>\n",
       "      <td>0.0</td>\n",
       "      <td>13.231729</td>\n",
       "    </tr>\n",
       "    <tr>\n",
       "      <th>1</th>\n",
       "      <td>130</td>\n",
       "      <td>5.0</td>\n",
       "      <td>97.0</td>\n",
       "      <td>3149.664934</td>\n",
       "      <td>17.8</td>\n",
       "      <td>2007</td>\n",
       "      <td>USA</td>\n",
       "      <td>Gasoline</td>\n",
       "      <td>Front-wheel drive</td>\n",
       "      <td>0.0</td>\n",
       "      <td>13.688217</td>\n",
       "    </tr>\n",
       "    <tr>\n",
       "      <th>2</th>\n",
       "      <td>170</td>\n",
       "      <td>NaN</td>\n",
       "      <td>78.0</td>\n",
       "      <td>3079.038997</td>\n",
       "      <td>15.1</td>\n",
       "      <td>2018</td>\n",
       "      <td>Europe</td>\n",
       "      <td>Gasoline</td>\n",
       "      <td>Front-wheel drive</td>\n",
       "      <td>0.0</td>\n",
       "      <td>14.246341</td>\n",
       "    </tr>\n",
       "    <tr>\n",
       "      <th>3</th>\n",
       "      <td>220</td>\n",
       "      <td>4.0</td>\n",
       "      <td>NaN</td>\n",
       "      <td>2542.392402</td>\n",
       "      <td>20.2</td>\n",
       "      <td>2009</td>\n",
       "      <td>USA</td>\n",
       "      <td>Diesel</td>\n",
       "      <td>All-wheel drive</td>\n",
       "      <td>2.0</td>\n",
       "      <td>16.912736</td>\n",
       "    </tr>\n",
       "    <tr>\n",
       "      <th>4</th>\n",
       "      <td>210</td>\n",
       "      <td>1.0</td>\n",
       "      <td>140.0</td>\n",
       "      <td>3460.870990</td>\n",
       "      <td>14.4</td>\n",
       "      <td>2009</td>\n",
       "      <td>Europe</td>\n",
       "      <td>Gasoline</td>\n",
       "      <td>All-wheel drive</td>\n",
       "      <td>2.0</td>\n",
       "      <td>12.488369</td>\n",
       "    </tr>\n",
       "  </tbody>\n",
       "</table>\n",
       "</div>"
      ],
      "text/plain": [
       "   engine_displacement  num_cylinders  horsepower  vehicle_weight  \\\n",
       "0                  170            3.0       159.0     3413.433759   \n",
       "1                  130            5.0        97.0     3149.664934   \n",
       "2                  170            NaN        78.0     3079.038997   \n",
       "3                  220            4.0         NaN     2542.392402   \n",
       "4                  210            1.0       140.0     3460.870990   \n",
       "\n",
       "   acceleration  model_year  origin fuel_type         drivetrain  num_doors  \\\n",
       "0          17.7        2003  Europe  Gasoline    All-wheel drive        0.0   \n",
       "1          17.8        2007     USA  Gasoline  Front-wheel drive        0.0   \n",
       "2          15.1        2018  Europe  Gasoline  Front-wheel drive        0.0   \n",
       "3          20.2        2009     USA    Diesel    All-wheel drive        2.0   \n",
       "4          14.4        2009  Europe  Gasoline    All-wheel drive        2.0   \n",
       "\n",
       "   fuel_efficiency_mpg  \n",
       "0            13.231729  \n",
       "1            13.688217  \n",
       "2            14.246341  \n",
       "3            16.912736  \n",
       "4            12.488369  "
      ]
     },
     "execution_count": 20,
     "metadata": {},
     "output_type": "execute_result"
    }
   ],
   "source": [
    "df = pd.read_csv('https://raw.githubusercontent.com/alexeygrigorev/datasets/master/car_fuel_efficiency.csv')\n",
    "df.head()"
   ]
  },
  {
   "cell_type": "markdown",
   "id": "aa5abf36",
   "metadata": {},
   "source": [
    "## Q2. Records count\n",
    "### How many records are in the dataset?"
   ]
  },
  {
   "cell_type": "code",
   "execution_count": 21,
   "id": "e7dcca97",
   "metadata": {},
   "outputs": [
    {
     "name": "stdout",
     "output_type": "stream",
     "text": [
      "Dataset shape: (9704, 11)\n",
      "Number of records (rows): 9704\n",
      "Number of features (columns): 11\n"
     ]
    }
   ],
   "source": [
    "# Check dataset info\n",
    "print(\"Dataset shape:\", df.shape)\n",
    "print(\"Number of records (rows):\", len(df))\n",
    "print(\"Number of features (columns):\", df.shape[1])"
   ]
  },
  {
   "cell_type": "code",
   "execution_count": 22,
   "id": "11421b24-981c-4cd0-b301-11e484153d17",
   "metadata": {},
   "outputs": [
    {
     "name": "stdout",
     "output_type": "stream",
     "text": [
      "\n",
      "Column names: \n",
      " ['engine_displacement', 'num_cylinders', 'horsepower', 'vehicle_weight', 'acceleration', 'model_year', 'origin', 'fuel_type', 'drivetrain', 'num_doors', 'fuel_efficiency_mpg']\n",
      "\n",
      "Data types:\n",
      "engine_displacement      int64\n",
      "num_cylinders          float64\n",
      "horsepower             float64\n",
      "vehicle_weight         float64\n",
      "acceleration           float64\n",
      "model_year               int64\n",
      "origin                  object\n",
      "fuel_type               object\n",
      "drivetrain              object\n",
      "num_doors              float64\n",
      "fuel_efficiency_mpg    float64\n",
      "dtype: object\n"
     ]
    }
   ],
   "source": [
    "print(\"\\nColumn names:\", \"\\n\", df.columns.tolist())\n",
    "print(\"\\nData types:\")\n",
    "print(df.dtypes)"
   ]
  },
  {
   "cell_type": "markdown",
   "id": "d9c7a898",
   "metadata": {},
   "source": [
    "## Q3. Fuel types\n",
    "### How many fuel types are presented in the dataset?"
   ]
  },
  {
   "cell_type": "code",
   "execution_count": 23,
   "id": "3bd4bbf8-c6f5-466c-ba11-d3bd35b00927",
   "metadata": {},
   "outputs": [
    {
     "name": "stdout",
     "output_type": "stream",
     "text": [
      "\n",
      "Number of fuel types: 2\n",
      "fuel_type\n",
      "Gasoline    4898\n",
      "Diesel      4806\n",
      "Name: count, dtype: int64\n"
     ]
    }
   ],
   "source": [
    "print(f\"\\nNumber of fuel types: {df['fuel_type'].nunique()}\")\n",
    "print(f\"{df['fuel_type'].value_counts()}\")"
   ]
  },
  {
   "cell_type": "code",
   "execution_count": 24,
   "id": "08d4242c",
   "metadata": {},
   "outputs": [
    {
     "name": "stdout",
     "output_type": "stream",
     "text": [
      "\n",
      "How many columns have missing values? 4\n",
      "Total missing values in dataset: 2622\n",
      "Missing values per column:\n",
      "engine_displacement      0\n",
      "num_cylinders          482\n",
      "horsepower             708\n",
      "vehicle_weight           0\n",
      "acceleration           930\n",
      "model_year               0\n",
      "origin                   0\n",
      "fuel_type                0\n",
      "drivetrain               0\n",
      "num_doors              502\n",
      "fuel_efficiency_mpg      0\n",
      "dtype: int64\n",
      "\n",
      "Columns with missing values: ['num_cylinders', 'horsepower', 'acceleration', 'num_doors']\n"
     ]
    }
   ],
   "source": [
    "# Check for missing values\n",
    "print(f\"\\nHow many columns have missing values? {(df.isnull().sum() > 0).sum()}\")\n",
    "print(f\"Total missing values in dataset: {df.isnull().sum().sum()}\")\n",
    "print(\"Missing values per column:\")\n",
    "print(df.isnull().sum())\n",
    "\n",
    "# Show which columns have missing values\n",
    "columns_with_missing = df.columns[df.isnull().sum() > 0].tolist()\n",
    "print(f\"\\nColumns with missing values: {columns_with_missing}\")"
   ]
  },
  {
   "cell_type": "markdown",
   "id": "fb0495ee",
   "metadata": {},
   "source": [
    "## Q4. Missing values\n",
    "### How many columns in the dataset have missing values?"
   ]
  },
  {
   "cell_type": "code",
   "execution_count": 25,
   "id": "e1edf151",
   "metadata": {},
   "outputs": [
    {
     "name": "stdout",
     "output_type": "stream",
     "text": [
      "\n",
      "Columns with missing values? 4\n",
      "Total missing values in dataset: 2622\n",
      "Missing values per column:\n",
      "engine_displacement      0\n",
      "num_cylinders          482\n",
      "horsepower             708\n",
      "vehicle_weight           0\n",
      "acceleration           930\n",
      "model_year               0\n",
      "origin                   0\n",
      "fuel_type                0\n",
      "drivetrain               0\n",
      "num_doors              502\n",
      "fuel_efficiency_mpg      0\n",
      "dtype: int64\n",
      "\n",
      "Columns with missing values: ['num_cylinders', 'horsepower', 'acceleration', 'num_doors']\n"
     ]
    }
   ],
   "source": [
    "# Checking for missing values\n",
    "print(f\"\\nColumns with missing values? {(df.isnull().sum() > 0).sum()}\")\n",
    "print(f\"Total missing values in dataset: {df.isnull().sum().sum()}\")\n",
    "print(\"Missing values per column:\")\n",
    "print(df.isnull().sum())\n",
    "\n",
    "# Showing which columns have missing values\n",
    "columns_with_missing = df.columns[df.isnull().sum() > 0].tolist()\n",
    "print(f\"\\nColumns with missing values: {columns_with_missing}\")"
   ]
  },
  {
   "cell_type": "markdown",
   "id": "9ac72b45",
   "metadata": {},
   "source": [
    "## Q5. Max fuel efficiency\n",
    "### What's the maximum fuel efficiency of cars from Asia?"
   ]
  },
  {
   "cell_type": "code",
   "execution_count": null,
   "id": "6ffcabd0",
   "metadata": {},
   "outputs": [],
   "source": [
    "# Q5. Max fuel efficiency"
   ]
  },
  {
   "cell_type": "markdown",
   "id": "2599627b",
   "metadata": {},
   "source": [
    "## Q6. Median value of horsepower\n",
    "### \n",
    "- Finding the median value of horsepower column in the dataset.\n",
    "- Next, we calculate the most frequent value of the same horsepower column.\n",
    "- Then we use fillna method to fill the missing values in horsepower column with the most frequent value from the previous step.\n",
    "- Now, we calculate the median value of horsepower once again."
   ]
  },
  {
   "cell_type": "code",
   "execution_count": null,
   "id": "54db404e",
   "metadata": {},
   "outputs": [],
   "source": [
    "# median value of horsepower"
   ]
  },
  {
   "cell_type": "markdown",
   "id": "8d1497d3",
   "metadata": {},
   "source": [
    "## Q7. Sum of weights\n",
    "-  Step 1: all the cars from Asia are selected.\n",
    "-  Step 2: only columns vehicle_weight and model_year are selected.\n",
    "-  Step 3: the first 7 values are selected.\n",
    "-  Step 4: the underlying NumPy array is obtained. Let's call it X.\n",
    "-  Step 5: matrix-matrix multiplication between the transpose of X and X is computed. To get the transpose, use X.T. Let's call the result XTX.\n",
    "-  Step 6: XTX is inverted.\n",
    "-  Step 7: an array y is created with values [1100, 1300, 800, 900, 1000, 1100, 1200].\n",
    "-  Step 8: the inverse of XTX is multiplied with the transpose of X, and then the result is multiplied by y. The result is called w.\n",
    "-  Step 9: the sum of all elements in w is computed."
   ]
  },
  {
   "cell_type": "code",
   "execution_count": null,
   "id": "37fc4d0e",
   "metadata": {},
   "outputs": [],
   "source": [
    "# Sum of weights"
   ]
  }
 ],
 "metadata": {
  "kernelspec": {
   "display_name": "Python 3 (ipykernel)",
   "language": "python",
   "name": "python3"
  },
  "language_info": {
   "codemirror_mode": {
    "name": "ipython",
    "version": 3
   },
   "file_extension": ".py",
   "mimetype": "text/x-python",
   "name": "python",
   "nbconvert_exporter": "python",
   "pygments_lexer": "ipython3",
   "version": "3.12.1"
  }
 },
 "nbformat": 4,
 "nbformat_minor": 5
}
